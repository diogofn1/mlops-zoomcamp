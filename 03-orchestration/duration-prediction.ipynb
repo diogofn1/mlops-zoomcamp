{
 "cells": [
  {
   "cell_type": "code",
   "execution_count": 2,
   "id": "58bfebd0",
   "metadata": {},
   "outputs": [
    {
     "name": "stdout",
     "output_type": "stream",
     "text": [
      "Python 3.9.24\n"
     ]
    }
   ],
   "source": [
    "!python -V"
   ]
  },
  {
   "cell_type": "code",
   "execution_count": 3,
   "id": "f06205f3",
   "metadata": {},
   "outputs": [
    {
     "name": "stderr",
     "output_type": "stream",
     "text": [
      "/home/codespace/anaconda3/envs/exp-tracking-env/lib/python3.9/site-packages/hyperopt/atpe.py:19: UserWarning: pkg_resources is deprecated as an API. See https://setuptools.pypa.io/en/latest/pkg_resources.html. The pkg_resources package is slated for removal as early as 2025-11-30. Refrain from using this package or pin to Setuptools<81.\n",
      "  import pkg_resources\n"
     ]
    }
   ],
   "source": [
    "import pandas as pd\n",
    "import seaborn as sns\n",
    "import matplotlib.pyplot as plt\n",
    "from sklearn.feature_extraction import DictVectorizer\n",
    "from sklearn.linear_model import LinearRegression\n",
    "from sklearn.linear_model import Lasso\n",
    "from sklearn.linear_model import Ridge\n",
    "from sklearn.metrics import root_mean_squared_error\n",
    "import pickle\n",
    "import mlflow\n",
    "import xgboost as xgb\n",
    "from hyperopt import fmin, tpe, hp, STATUS_OK, Trials\n",
    "from hyperopt.pyll import scope\n",
    "from pathlib import Path"
   ]
  },
  {
   "cell_type": "code",
   "execution_count": 4,
   "id": "b3dfdb4c",
   "metadata": {},
   "outputs": [
    {
     "name": "stderr",
     "output_type": "stream",
     "text": [
      "2025/10/27 18:41:29 INFO mlflow.store.db.utils: Creating initial MLflow database tables...\n",
      "2025/10/27 18:41:29 INFO mlflow.store.db.utils: Updating database tables\n",
      "INFO  [alembic.runtime.migration] Context impl SQLiteImpl.\n",
      "INFO  [alembic.runtime.migration] Will assume non-transactional DDL.\n",
      "INFO  [alembic.runtime.migration] Context impl SQLiteImpl.\n",
      "INFO  [alembic.runtime.migration] Will assume non-transactional DDL.\n"
     ]
    },
    {
     "data": {
      "text/plain": [
       "<Experiment: artifact_location='/workspaces/mlops-zoomcamp/03-/mlruns/1', creation_time=1761580846153, experiment_id='1', last_update_time=1761580846153, lifecycle_stage='active', name='nyc-taxi-experiment', tags={}>"
      ]
     },
     "execution_count": 4,
     "metadata": {},
     "output_type": "execute_result"
    }
   ],
   "source": [
    "mlflow.set_tracking_uri(\"sqlite:///mlflow.db\")\n",
    "mlflow.set_experiment(\"nyc-taxi-experiment\")"
   ]
  },
  {
   "cell_type": "code",
   "execution_count": 5,
   "id": "3e23e89e",
   "metadata": {},
   "outputs": [],
   "source": [
    "def read_dataframe(filename):\n",
    "    \n",
    "    df = pd.read_parquet(filename)\n",
    "\n",
    "    # Calculate trip duration in minutes\n",
    "\n",
    "    df['duration'] = df['tpep_dropoff_datetime'] - df['tpep_pickup_datetime']\n",
    "    df['duration'] = df['duration'].apply(lambda td: td.total_seconds() / 60) \n",
    "\n",
    "    # Keep only trips that at least 1 minute and at most 60\n",
    "\n",
    "    df = df[(df['duration'] >= 1) & (df['duration'] <= 60)]\n",
    "\n",
    "    # Reduce dataset for perfomance. The model won't require so many data points\n",
    "\n",
    "    df_sample = df.sample(frac=0.1, random_state=2)\n",
    "    df_sample.shape\n",
    "\n",
    "    # Features for modeling\n",
    "\n",
    "    categorical = ['PULocationID', 'DOLocationID']\n",
    "    numerical = ['trip_distance']\n",
    "\n",
    "    df_sample[categorical] = df_sample[categorical].astype(str)\n",
    "    \n",
    "    df_sample['PU_DO'] = df_sample['PULocationID'] + \"_\" + df_sample['DOLocationID']\n",
    "    \n",
    "    return df_sample"
   ]
  },
  {
   "cell_type": "code",
   "execution_count": 6,
   "id": "3c1677c7",
   "metadata": {},
   "outputs": [],
   "source": [
    "# df_train = read_dataframe(\"https://d37ci6vzurychx.cloudfront.net/trip-data/yellow_tripdata_2024-01.parquet\")\n",
    "# df_val = read_dataframe(\"https://d37ci6vzurychx.cloudfront.net/trip-data/yellow_tripdata_2024-02.parquet\")\n",
    "\n",
    "df_train = pd.read_parquet(\"../02-experiment-tracking/data/yellow_tripdata_2024-01.parquet\")\n",
    "df_val = pd.read_parquet(\"../02-experiment-tracking/data/yellow_tripdata_2024-02.parquet\")"
   ]
  },
  {
   "cell_type": "code",
   "execution_count": 7,
   "id": "24676cb6",
   "metadata": {},
   "outputs": [],
   "source": [
    "categorical = ['PU_DO'] # ['PULocationID', 'DOLocationID']\n",
    "numerical = ['trip_distance']\n",
    "\n",
    "dv = DictVectorizer()\n",
    "\n",
    "train_dicts = df_train[categorical + numerical].to_dict(orient='records')\n",
    "X_train = dv.fit_transform(train_dicts)\n",
    "\n",
    "val_dicts = df_val[categorical + numerical].to_dict(orient='records')\n",
    "X_val = dv.transform(val_dicts)\n",
    "\n",
    "target = 'duration'\n",
    "y_train = df_train[target].values\n",
    "y_val = df_val[target].values"
   ]
  },
  {
   "cell_type": "code",
   "execution_count": 8,
   "id": "01c45a3b",
   "metadata": {},
   "outputs": [],
   "source": [
    "models_folder = Path('models')\n",
    "models_folder.mkdir(exist_ok=True)"
   ]
  },
  {
   "cell_type": "code",
   "execution_count": 9,
   "id": "86500cd4",
   "metadata": {},
   "outputs": [
    {
     "name": "stderr",
     "output_type": "stream",
     "text": [
      "/home/codespace/anaconda3/envs/exp-tracking-env/lib/python3.9/site-packages/xgboost/core.py:158: UserWarning: [18:41:32] WARNING: /workspace/src/objective/regression_obj.cu:227: reg:linear is now deprecated in favor of reg:squarederror.\n",
      "  warnings.warn(smsg, UserWarning)\n"
     ]
    },
    {
     "name": "stdout",
     "output_type": "stream",
     "text": [
      "[0]\tvalidation-rmse:5.61749\n",
      "[1]\tvalidation-rmse:5.34707\n",
      "[2]\tvalidation-rmse:5.30852\n",
      "[3]\tvalidation-rmse:5.29391\n",
      "[4]\tvalidation-rmse:5.28724\n",
      "[5]\tvalidation-rmse:5.28285\n",
      "[6]\tvalidation-rmse:5.27766\n",
      "[7]\tvalidation-rmse:5.27338\n",
      "[8]\tvalidation-rmse:5.26896\n",
      "[9]\tvalidation-rmse:5.26424\n",
      "[10]\tvalidation-rmse:5.25982\n",
      "[11]\tvalidation-rmse:5.25585\n",
      "[12]\tvalidation-rmse:5.25150\n",
      "[13]\tvalidation-rmse:5.24819\n",
      "[14]\tvalidation-rmse:5.24525\n",
      "[15]\tvalidation-rmse:5.24189\n",
      "[16]\tvalidation-rmse:5.23422\n",
      "[17]\tvalidation-rmse:5.23044\n",
      "[18]\tvalidation-rmse:5.22809\n",
      "[19]\tvalidation-rmse:5.22604\n",
      "[20]\tvalidation-rmse:5.22313\n",
      "[21]\tvalidation-rmse:5.22146\n",
      "[22]\tvalidation-rmse:5.21987\n",
      "[23]\tvalidation-rmse:5.21504\n",
      "[24]\tvalidation-rmse:5.21372\n",
      "[25]\tvalidation-rmse:5.21217\n",
      "[26]\tvalidation-rmse:5.21133\n",
      "[27]\tvalidation-rmse:5.21046\n",
      "[28]\tvalidation-rmse:5.20968\n",
      "[29]\tvalidation-rmse:5.20916\n"
     ]
    },
    {
     "name": "stderr",
     "output_type": "stream",
     "text": [
      "/home/codespace/anaconda3/envs/exp-tracking-env/lib/python3.9/site-packages/xgboost/core.py:158: UserWarning: [18:41:54] WARNING: /workspace/src/c_api/c_api.cc:1374: Saving model in the UBJSON format as default.  You can use file extension: `json`, `ubj` or `deprecated` to choose between formats.\n",
      "  warnings.warn(smsg, UserWarning)\n",
      "\u001b[31m2025/10/27 18:41:57 WARNING mlflow.models.model: Model logged without a signature and input example. Please set `input_example` parameter when logging the model to auto infer the model signature.\u001b[0m\n"
     ]
    }
   ],
   "source": [
    "with mlflow.start_run(run_name=\"best xgboost with preprocessor\"):\n",
    "\n",
    "    train = xgb.DMatrix(X_train, label=y_train)\n",
    "    valid = xgb.DMatrix(X_val, label=y_val)\n",
    "\n",
    "    best_params = {\n",
    "    \"max_depth\": 54,\n",
    "    \"learning_rate\": 0.838560298111564,\n",
    "    \"reg_alpha\": 0.07217623016548881,\n",
    "    \"reg_lambda\": 0.0038449610359954913,\n",
    "    \"min_child_weight\": 9.039435151170704,\n",
    "    \"objective\": \"reg:linear\",\n",
    "    \"seed\": 42\n",
    "    }\n",
    "\n",
    "    mlflow.log_params(best_params)\n",
    "\n",
    "    booster = xgb.train(\n",
    "    params=best_params,\n",
    "    dtrain=train,\n",
    "    num_boost_round=30,\n",
    "    evals=[(valid, \"validation\")],\n",
    "    early_stopping_rounds=50)\n",
    "\n",
    "    y_pred = booster.predict(valid)\n",
    "    rmse = root_mean_squared_error(y_val, y_pred)\n",
    "    mlflow.log_metric(\"rmse\", rmse)\n",
    "\n",
    "    with open(\"models/preprocessor.b\", \"wb\") as f_out:\n",
    "        pickle.dump(dv, f_out)\n",
    "\n",
    "    mlflow.log_artifact(\"models/preprocessor.b\", artifact_path=\"preprocessor\")\n",
    "\n",
    "    mlflow.xgboost.log_model(booster, name=\"models_mlflow\")"
   ]
  },
  {
   "cell_type": "code",
   "execution_count": null,
   "id": "00349305",
   "metadata": {},
   "outputs": [],
   "source": [
    "with mlflow.start_run(run_name=\"best xgboost with preprocessor\") as run:\n",
    "\n",
    "    train = xgb.DMatrix(X_train, label=y_train)\n",
    "    valid = xgb.DMatrix(X_val, label=y_val)\n",
    "\n",
    "    best_params = {\n",
    "    \"max_depth\": 54,\n",
    "    \"learning_rate\": 0.838560298111564,\n",
    "    \"reg_alpha\": 0.07217623016548881,\n",
    "    \"reg_lambda\": 0.0038449610359954913,\n",
    "    \"min_child_weight\": 9.039435151170704,\n",
    "    \"objective\": \"reg:linear\",\n",
    "    \"seed\": 42\n",
    "    }\n",
    "\n",
    "    mlflow.log_params(best_params)\n",
    "\n",
    "    booster = xgb.train(\n",
    "    params=best_params,\n",
    "    dtrain=train,\n",
    "    num_boost_round=30,\n",
    "    evals=[(valid, \"validation\")],\n",
    "    early_stopping_rounds=50)\n",
    "\n",
    "    y_pred = booster.predict(valid)\n",
    "    rmse = root_mean_squared_error(y_val, y_pred)\n",
    "    mlflow.log_metric(\"rmse\", rmse)\n",
    "\n",
    "    with open(\"models/preprocessor.b\", \"wb\") as f_out:\n",
    "        pickle.dump(dv, f_out)\n",
    "\n",
    "    mlflow.log_artifact(\"models/preprocessor.b\", artifact_path=\"preprocessor\")\n",
    "\n",
    "    mlflow.xgboost.log_model(booster, name=\"models_mlflow\")\n",
    "\n",
    "    print(run.info.run_id)"
   ]
  }
 ],
 "metadata": {
  "kernelspec": {
   "display_name": "exp-tracking-env",
   "language": "python",
   "name": "python3"
  },
  "language_info": {
   "codemirror_mode": {
    "name": "ipython",
    "version": 3
   },
   "file_extension": ".py",
   "mimetype": "text/x-python",
   "name": "python",
   "nbconvert_exporter": "python",
   "pygments_lexer": "ipython3",
   "version": "3.9.24"
  }
 },
 "nbformat": 4,
 "nbformat_minor": 5
}
